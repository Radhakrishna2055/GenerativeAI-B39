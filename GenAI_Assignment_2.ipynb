{
  "nbformat": 4,
  "nbformat_minor": 0,
  "metadata": {
    "colab": {
      "provenance": [],
      "authorship_tag": "ABX9TyO2C7hLFagm1RqPH40vuxBt",
      "include_colab_link": true
    },
    "kernelspec": {
      "name": "python3",
      "display_name": "Python 3"
    },
    "language_info": {
      "name": "python"
    }
  },
  "cells": [
    {
      "cell_type": "markdown",
      "metadata": {
        "id": "view-in-github",
        "colab_type": "text"
      },
      "source": [
        "<a href=\"https://colab.research.google.com/github/Radhakrishna2055/GenerativeAI-B39/blob/main/GenAI_Assignment_2.ipynb\" target=\"_parent\"><img src=\"https://colab.research.google.com/assets/colab-badge.svg\" alt=\"Open In Colab\"/></a>"
      ]
    },
    {
      "cell_type": "code",
      "execution_count": 3,
      "metadata": {
        "colab": {
          "base_uri": "https://localhost:8080/"
        },
        "id": "NsIEDKNEHv_1",
        "outputId": "d30a49a1-1600-4f00-ba57-46e5c0ef2b3c"
      },
      "outputs": [
        {
          "output_type": "stream",
          "name": "stdout",
          "text": [
            "Case Study 1:\n",
            "Optimal value (Z): 30.00\n",
            "Optimal solution: x1 = 6.00, x2 = 0.00\n",
            "\n"
          ]
        }
      ],
      "source": [
        "from scipy.optimize import linprog\n",
        "\n",
        "# Task 1: Case Study 1\n",
        "# Maximize Z = 5x1 + 4x2\n",
        "# Subject to:\n",
        "# 2x1 + 3x2 <= 12\n",
        "# x1 + 2x2 <= 8\n",
        "# x1, x2 >= 0\n",
        "\n",
        "# Coefficients of the objective function (negated for minimization)\n",
        "c1 = [-5, -4]\n",
        "\n",
        "# Coefficients of the inequality constraints\n",
        "A1 = [\n",
        "    [2, 3],\n",
        "    [1, 2]\n",
        "]\n",
        "\n",
        "# Right-hand side of the inequality constraints\n",
        "b1 = [12, 8]\n",
        "\n",
        "# Bounds for variables x1 and x2\n",
        "x1_bounds = (0, None)  # x1 >= 0\n",
        "x2_bounds = (0, None)  # x2 >= 0\n",
        "\n",
        "# Solve the linear programming problem for Case Study 1 using 'highs' method\n",
        "result1 = linprog(c1, A_ub=A1, b_ub=b1, bounds=[x1_bounds, x2_bounds], method='highs')\n",
        "\n",
        "# Display the results for Case Study 1\n",
        "print(\"Case Study 1:\")\n",
        "print(f\"Optimal value (Z): {-result1.fun:.2f}\")\n",
        "print(f\"Optimal solution: x1 = {result1.x[0]:.2f}, x2 = {result1.x[1]:.2f}\\n\")\n",
        "\n"
      ]
    },
    {
      "cell_type": "code",
      "source": [
        "# Task 2: Case Study 2\n",
        "# Minimize Z = 6x1 + 7x2\n",
        "# Subject to:\n",
        "# 4x1 + 3x2 >= 14\n",
        "# 2x1 + 5x2 >= 10\n",
        "# x1, x2 >= 0\n",
        "\n",
        "# Coefficients of the objective function\n",
        "c2 = [6, 7]\n",
        "\n",
        "# Coefficients of the inequality constraints (negated for standard form)\n",
        "A2 = [\n",
        "    [-4, -3],\n",
        "    [-2, -5]\n",
        "]\n",
        "\n",
        "# Right-hand side of the inequality constraints (negated)\n",
        "b2 = [-14, -10]\n",
        "\n",
        "# Solve the linear programming problem for Case Study 2 using 'highs' method\n",
        "result2 = linprog(c2, A_ub=A2, b_ub=b2, bounds=[x1_bounds, x2_bounds], method='highs')\n",
        "\n",
        "# Display the results for Case Study 2\n",
        "print(\"Case Study 2:\")\n",
        "print(f\"Optimal value (Z): {result2.fun:.2f}\")\n",
        "print(f\"Optimal solution: x1 = {result2.x[0]:.2f}, x2 = {result2.x[1]:.2f}\")\n"
      ],
      "metadata": {
        "colab": {
          "base_uri": "https://localhost:8080/"
        },
        "id": "x7mMlX8xIBbE",
        "outputId": "6a011864-de6f-471a-bde6-161b482ea9d5"
      },
      "execution_count": 2,
      "outputs": [
        {
          "output_type": "stream",
          "name": "stdout",
          "text": [
            "Case Study 2:\n",
            "Optimal value (Z): 23.14\n",
            "Optimal solution: x1 = 2.86, x2 = 0.86\n"
          ]
        }
      ]
    }
  ]
}