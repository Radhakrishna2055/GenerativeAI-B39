{
  "nbformat": 4,
  "nbformat_minor": 0,
  "metadata": {
    "colab": {
      "provenance": [],
      "authorship_tag": "ABX9TyPPbBwgkCHKeI9zCuA0DM2A",
      "include_colab_link": true
    },
    "kernelspec": {
      "name": "python3",
      "display_name": "Python 3"
    },
    "language_info": {
      "name": "python"
    }
  },
  "cells": [
    {
      "cell_type": "markdown",
      "metadata": {
        "id": "view-in-github",
        "colab_type": "text"
      },
      "source": [
        "<a href=\"https://colab.research.google.com/github/Radhakrishna2055/GenerativeAI-B39/blob/main/Assignment_5.ipynb\" target=\"_parent\"><img src=\"https://colab.research.google.com/assets/colab-badge.svg\" alt=\"Open In Colab\"/></a>"
      ]
    },
    {
      "cell_type": "code",
      "execution_count": 3,
      "metadata": {
        "colab": {
          "base_uri": "https://localhost:8080/"
        },
        "id": "ti1RKUmtONRn",
        "outputId": "8189cd7c-b9da-4ee4-e44c-22181e8063d2"
      },
      "outputs": [
        {
          "output_type": "stream",
          "name": "stdout",
          "text": [
            "Epoch 0, MSE: 2.427659\n",
            "Epoch 1000, MSE: 0.000005\n",
            "Epoch 2000, MSE: 0.000003\n",
            "Epoch 3000, MSE: 0.000002\n",
            "Epoch 4000, MSE: 0.000001\n",
            "Final Training MSE: 0.000001\n",
            "Final Test MSE: 0.000000\n",
            "Enter x1 and x2: 0.5 0.6\n",
            "Predicted output: 0.355533\n"
          ]
        }
      ],
      "source": [
        "import numpy as np\n",
        "\n",
        "# Step 1: Define Activation Functions (Sigmoid + Derivative)\n",
        "def sigmoid(x):\n",
        "    return 1 / (1 + np.exp(-x))\n",
        "\n",
        "def sigmoid_derivative(x):\n",
        "    return x * (1 - x)\n",
        "\n",
        "# Step 2: Prepare Training and Test Data\n",
        "X_train = np.array([[0.2, 0.1], [0.3, 0.2], [0.4, 0.3], [0.7, 0.6], [0.8, 0.7], [0.9, 0.8]])\n",
        "y_train = np.array([[0.3441], [0.3500], [0.3558], [0.3729], [0.3785], [0.3841]])\n",
        "\n",
        "X_test = np.array([[0.5, 0.4], [0.6, 0.5]])\n",
        "y_test = np.array([[0.3615], [0.3672]])\n",
        "\n",
        "# Step 3: Define ANN Architecture\n",
        "input_size = 2\n",
        "hidden_size = 3\n",
        "output_size = 1\n",
        "learning_rate = 0.01\n",
        "epochs = 5000\n",
        "\n",
        "# Step 4: Initialize Weights and Biases Randomly\n",
        "np.random.seed(42)\n",
        "weights_input_hidden = np.random.rand(input_size, hidden_size)\n",
        "weights_hidden_output = np.random.rand(hidden_size, output_size)\n",
        "bias_hidden = np.random.rand(hidden_size)\n",
        "bias_output = np.random.rand(output_size)\n",
        "\n",
        "# Step 5: Train the Model using Forward Propagation and Backpropagation\n",
        "for epoch in range(epochs):\n",
        "    # Forward pass\n",
        "    hidden_layer_input = np.dot(X_train, weights_input_hidden) + bias_hidden\n",
        "    hidden_layer_output = sigmoid(hidden_layer_input)\n",
        "    output_layer_input = np.dot(hidden_layer_output, weights_hidden_output) + bias_output\n",
        "    y_pred = output_layer_input  # Linear activation function\n",
        "\n",
        "    # Compute error\n",
        "    error = y_train - y_pred\n",
        "\n",
        "    # Backpropagation\n",
        "    d_output = error\n",
        "    d_hidden = np.dot(d_output, weights_hidden_output.T) * sigmoid_derivative(hidden_layer_output)\n",
        "\n",
        "    # Update weights and biases\n",
        "    weights_hidden_output += learning_rate * np.dot(hidden_layer_output.T, d_output)\n",
        "    bias_output += learning_rate * np.sum(d_output, axis=0)\n",
        "    weights_input_hidden += learning_rate * np.dot(X_train.T, d_hidden)\n",
        "    bias_hidden += learning_rate * np.sum(d_hidden, axis=0)\n",
        "\n",
        "    # Print loss every 1000 epochs\n",
        "    if epoch % 1000 == 0:\n",
        "        print(f\"Epoch {epoch}, MSE: {mse(y_train, y_pred):.6f}\")\n",
        "\n",
        "# Step 6: Calculate MSE for Training and Testing Datasets\n",
        "hidden_layer_input_test = np.dot(X_test, weights_input_hidden) + bias_hidden\n",
        "hidden_layer_output_test = sigmoid(hidden_layer_input_test)\n",
        "output_layer_input_test = np.dot(hidden_layer_output_test, weights_hidden_output) + bias_output\n",
        "y_test_pred = output_layer_input_test\n",
        "\n",
        "print(f\"Final Training MSE: {mse(y_train, y_pred):.6f}\")\n",
        "print(f\"Final Test MSE: {mse(y_test, y_test_pred):.6f}\")\n",
        "\n",
        "# Step 7: Make Predictions for New User-Input Values\n",
        "x1, x2 = map(float, input(\"Enter x1 and x2: \").split())\n",
        "user_input = np.array([[x1, x2]])\n",
        "\n",
        "hidden_layer_input_user = np.dot(user_input, weights_input_hidden) + bias_hidden\n",
        "hidden_layer_output_user = sigmoid(hidden_layer_input_user)\n",
        "output_layer_input_user = np.dot(hidden_layer_output_user, weights_hidden_output) + bias_output\n",
        "\n",
        "print(f\"Predicted output: {output_layer_input_user[0, 0]:.6f}\")\n"
      ]
    }
  ]
}